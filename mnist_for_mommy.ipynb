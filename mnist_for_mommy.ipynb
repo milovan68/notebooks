{
 "cells": [
  {
   "cell_type": "markdown",
   "metadata": {},
   "source": [
    "Импортируем необходимые библиотеки"
   ]
  },
  {
   "cell_type": "code",
   "execution_count": 1,
   "metadata": {},
   "outputs": [],
   "source": [
    "import pandas as pd\n",
    "import numpy as np\n",
    "import matplotlib.pyplot as plt"
   ]
  },
  {
   "cell_type": "markdown",
   "metadata": {},
   "source": [
    "Загружаем и смотрим наши данные"
   ]
  },
  {
   "cell_type": "code",
   "execution_count": 55,
   "metadata": {},
   "outputs": [],
   "source": [
    "train = pd.read_csv(\"/home/../train.csv\")\n",
    "test = pd.read_csv(\"/home/../test.csv\")"
   ]
  },
  {
   "cell_type": "code",
   "execution_count": 3,
   "metadata": {},
   "outputs": [
    {
     "data": {
      "text/html": [
       "<div>\n",
       "<style scoped>\n",
       "    .dataframe tbody tr th:only-of-type {\n",
       "        vertical-align: middle;\n",
       "    }\n",
       "\n",
       "    .dataframe tbody tr th {\n",
       "        vertical-align: top;\n",
       "    }\n",
       "\n",
       "    .dataframe thead th {\n",
       "        text-align: right;\n",
       "    }\n",
       "</style>\n",
       "<table border=\"1\" class=\"dataframe\">\n",
       "  <thead>\n",
       "    <tr style=\"text-align: right;\">\n",
       "      <th></th>\n",
       "      <th>label</th>\n",
       "      <th>pixel0</th>\n",
       "      <th>pixel1</th>\n",
       "      <th>pixel2</th>\n",
       "      <th>pixel3</th>\n",
       "      <th>pixel4</th>\n",
       "      <th>pixel5</th>\n",
       "      <th>pixel6</th>\n",
       "      <th>pixel7</th>\n",
       "      <th>pixel8</th>\n",
       "      <th>...</th>\n",
       "      <th>pixel774</th>\n",
       "      <th>pixel775</th>\n",
       "      <th>pixel776</th>\n",
       "      <th>pixel777</th>\n",
       "      <th>pixel778</th>\n",
       "      <th>pixel779</th>\n",
       "      <th>pixel780</th>\n",
       "      <th>pixel781</th>\n",
       "      <th>pixel782</th>\n",
       "      <th>pixel783</th>\n",
       "    </tr>\n",
       "  </thead>\n",
       "  <tbody>\n",
       "    <tr>\n",
       "      <th>0</th>\n",
       "      <td>1</td>\n",
       "      <td>0</td>\n",
       "      <td>0</td>\n",
       "      <td>0</td>\n",
       "      <td>0</td>\n",
       "      <td>0</td>\n",
       "      <td>0</td>\n",
       "      <td>0</td>\n",
       "      <td>0</td>\n",
       "      <td>0</td>\n",
       "      <td>...</td>\n",
       "      <td>0</td>\n",
       "      <td>0</td>\n",
       "      <td>0</td>\n",
       "      <td>0</td>\n",
       "      <td>0</td>\n",
       "      <td>0</td>\n",
       "      <td>0</td>\n",
       "      <td>0</td>\n",
       "      <td>0</td>\n",
       "      <td>0</td>\n",
       "    </tr>\n",
       "    <tr>\n",
       "      <th>1</th>\n",
       "      <td>0</td>\n",
       "      <td>0</td>\n",
       "      <td>0</td>\n",
       "      <td>0</td>\n",
       "      <td>0</td>\n",
       "      <td>0</td>\n",
       "      <td>0</td>\n",
       "      <td>0</td>\n",
       "      <td>0</td>\n",
       "      <td>0</td>\n",
       "      <td>...</td>\n",
       "      <td>0</td>\n",
       "      <td>0</td>\n",
       "      <td>0</td>\n",
       "      <td>0</td>\n",
       "      <td>0</td>\n",
       "      <td>0</td>\n",
       "      <td>0</td>\n",
       "      <td>0</td>\n",
       "      <td>0</td>\n",
       "      <td>0</td>\n",
       "    </tr>\n",
       "    <tr>\n",
       "      <th>2</th>\n",
       "      <td>1</td>\n",
       "      <td>0</td>\n",
       "      <td>0</td>\n",
       "      <td>0</td>\n",
       "      <td>0</td>\n",
       "      <td>0</td>\n",
       "      <td>0</td>\n",
       "      <td>0</td>\n",
       "      <td>0</td>\n",
       "      <td>0</td>\n",
       "      <td>...</td>\n",
       "      <td>0</td>\n",
       "      <td>0</td>\n",
       "      <td>0</td>\n",
       "      <td>0</td>\n",
       "      <td>0</td>\n",
       "      <td>0</td>\n",
       "      <td>0</td>\n",
       "      <td>0</td>\n",
       "      <td>0</td>\n",
       "      <td>0</td>\n",
       "    </tr>\n",
       "    <tr>\n",
       "      <th>3</th>\n",
       "      <td>4</td>\n",
       "      <td>0</td>\n",
       "      <td>0</td>\n",
       "      <td>0</td>\n",
       "      <td>0</td>\n",
       "      <td>0</td>\n",
       "      <td>0</td>\n",
       "      <td>0</td>\n",
       "      <td>0</td>\n",
       "      <td>0</td>\n",
       "      <td>...</td>\n",
       "      <td>0</td>\n",
       "      <td>0</td>\n",
       "      <td>0</td>\n",
       "      <td>0</td>\n",
       "      <td>0</td>\n",
       "      <td>0</td>\n",
       "      <td>0</td>\n",
       "      <td>0</td>\n",
       "      <td>0</td>\n",
       "      <td>0</td>\n",
       "    </tr>\n",
       "    <tr>\n",
       "      <th>4</th>\n",
       "      <td>0</td>\n",
       "      <td>0</td>\n",
       "      <td>0</td>\n",
       "      <td>0</td>\n",
       "      <td>0</td>\n",
       "      <td>0</td>\n",
       "      <td>0</td>\n",
       "      <td>0</td>\n",
       "      <td>0</td>\n",
       "      <td>0</td>\n",
       "      <td>...</td>\n",
       "      <td>0</td>\n",
       "      <td>0</td>\n",
       "      <td>0</td>\n",
       "      <td>0</td>\n",
       "      <td>0</td>\n",
       "      <td>0</td>\n",
       "      <td>0</td>\n",
       "      <td>0</td>\n",
       "      <td>0</td>\n",
       "      <td>0</td>\n",
       "    </tr>\n",
       "  </tbody>\n",
       "</table>\n",
       "<p>5 rows × 785 columns</p>\n",
       "</div>"
      ],
      "text/plain": [
       "   label  pixel0  pixel1  pixel2  pixel3  pixel4  pixel5  pixel6  pixel7  \\\n",
       "0      1       0       0       0       0       0       0       0       0   \n",
       "1      0       0       0       0       0       0       0       0       0   \n",
       "2      1       0       0       0       0       0       0       0       0   \n",
       "3      4       0       0       0       0       0       0       0       0   \n",
       "4      0       0       0       0       0       0       0       0       0   \n",
       "\n",
       "   pixel8    ...     pixel774  pixel775  pixel776  pixel777  pixel778  \\\n",
       "0       0    ...            0         0         0         0         0   \n",
       "1       0    ...            0         0         0         0         0   \n",
       "2       0    ...            0         0         0         0         0   \n",
       "3       0    ...            0         0         0         0         0   \n",
       "4       0    ...            0         0         0         0         0   \n",
       "\n",
       "   pixel779  pixel780  pixel781  pixel782  pixel783  \n",
       "0         0         0         0         0         0  \n",
       "1         0         0         0         0         0  \n",
       "2         0         0         0         0         0  \n",
       "3         0         0         0         0         0  \n",
       "4         0         0         0         0         0  \n",
       "\n",
       "[5 rows x 785 columns]"
      ]
     },
     "execution_count": 3,
     "metadata": {},
     "output_type": "execute_result"
    }
   ],
   "source": [
    "train.head()"
   ]
  },
  {
   "cell_type": "code",
   "execution_count": 4,
   "metadata": {},
   "outputs": [
    {
     "data": {
      "text/html": [
       "<div>\n",
       "<style scoped>\n",
       "    .dataframe tbody tr th:only-of-type {\n",
       "        vertical-align: middle;\n",
       "    }\n",
       "\n",
       "    .dataframe tbody tr th {\n",
       "        vertical-align: top;\n",
       "    }\n",
       "\n",
       "    .dataframe thead th {\n",
       "        text-align: right;\n",
       "    }\n",
       "</style>\n",
       "<table border=\"1\" class=\"dataframe\">\n",
       "  <thead>\n",
       "    <tr style=\"text-align: right;\">\n",
       "      <th></th>\n",
       "      <th>pixel0</th>\n",
       "      <th>pixel1</th>\n",
       "      <th>pixel2</th>\n",
       "      <th>pixel3</th>\n",
       "      <th>pixel4</th>\n",
       "      <th>pixel5</th>\n",
       "      <th>pixel6</th>\n",
       "      <th>pixel7</th>\n",
       "      <th>pixel8</th>\n",
       "      <th>pixel9</th>\n",
       "      <th>...</th>\n",
       "      <th>pixel774</th>\n",
       "      <th>pixel775</th>\n",
       "      <th>pixel776</th>\n",
       "      <th>pixel777</th>\n",
       "      <th>pixel778</th>\n",
       "      <th>pixel779</th>\n",
       "      <th>pixel780</th>\n",
       "      <th>pixel781</th>\n",
       "      <th>pixel782</th>\n",
       "      <th>pixel783</th>\n",
       "    </tr>\n",
       "  </thead>\n",
       "  <tbody>\n",
       "    <tr>\n",
       "      <th>0</th>\n",
       "      <td>0</td>\n",
       "      <td>0</td>\n",
       "      <td>0</td>\n",
       "      <td>0</td>\n",
       "      <td>0</td>\n",
       "      <td>0</td>\n",
       "      <td>0</td>\n",
       "      <td>0</td>\n",
       "      <td>0</td>\n",
       "      <td>0</td>\n",
       "      <td>...</td>\n",
       "      <td>0</td>\n",
       "      <td>0</td>\n",
       "      <td>0</td>\n",
       "      <td>0</td>\n",
       "      <td>0</td>\n",
       "      <td>0</td>\n",
       "      <td>0</td>\n",
       "      <td>0</td>\n",
       "      <td>0</td>\n",
       "      <td>0</td>\n",
       "    </tr>\n",
       "    <tr>\n",
       "      <th>1</th>\n",
       "      <td>0</td>\n",
       "      <td>0</td>\n",
       "      <td>0</td>\n",
       "      <td>0</td>\n",
       "      <td>0</td>\n",
       "      <td>0</td>\n",
       "      <td>0</td>\n",
       "      <td>0</td>\n",
       "      <td>0</td>\n",
       "      <td>0</td>\n",
       "      <td>...</td>\n",
       "      <td>0</td>\n",
       "      <td>0</td>\n",
       "      <td>0</td>\n",
       "      <td>0</td>\n",
       "      <td>0</td>\n",
       "      <td>0</td>\n",
       "      <td>0</td>\n",
       "      <td>0</td>\n",
       "      <td>0</td>\n",
       "      <td>0</td>\n",
       "    </tr>\n",
       "    <tr>\n",
       "      <th>2</th>\n",
       "      <td>0</td>\n",
       "      <td>0</td>\n",
       "      <td>0</td>\n",
       "      <td>0</td>\n",
       "      <td>0</td>\n",
       "      <td>0</td>\n",
       "      <td>0</td>\n",
       "      <td>0</td>\n",
       "      <td>0</td>\n",
       "      <td>0</td>\n",
       "      <td>...</td>\n",
       "      <td>0</td>\n",
       "      <td>0</td>\n",
       "      <td>0</td>\n",
       "      <td>0</td>\n",
       "      <td>0</td>\n",
       "      <td>0</td>\n",
       "      <td>0</td>\n",
       "      <td>0</td>\n",
       "      <td>0</td>\n",
       "      <td>0</td>\n",
       "    </tr>\n",
       "    <tr>\n",
       "      <th>3</th>\n",
       "      <td>0</td>\n",
       "      <td>0</td>\n",
       "      <td>0</td>\n",
       "      <td>0</td>\n",
       "      <td>0</td>\n",
       "      <td>0</td>\n",
       "      <td>0</td>\n",
       "      <td>0</td>\n",
       "      <td>0</td>\n",
       "      <td>0</td>\n",
       "      <td>...</td>\n",
       "      <td>0</td>\n",
       "      <td>0</td>\n",
       "      <td>0</td>\n",
       "      <td>0</td>\n",
       "      <td>0</td>\n",
       "      <td>0</td>\n",
       "      <td>0</td>\n",
       "      <td>0</td>\n",
       "      <td>0</td>\n",
       "      <td>0</td>\n",
       "    </tr>\n",
       "    <tr>\n",
       "      <th>4</th>\n",
       "      <td>0</td>\n",
       "      <td>0</td>\n",
       "      <td>0</td>\n",
       "      <td>0</td>\n",
       "      <td>0</td>\n",
       "      <td>0</td>\n",
       "      <td>0</td>\n",
       "      <td>0</td>\n",
       "      <td>0</td>\n",
       "      <td>0</td>\n",
       "      <td>...</td>\n",
       "      <td>0</td>\n",
       "      <td>0</td>\n",
       "      <td>0</td>\n",
       "      <td>0</td>\n",
       "      <td>0</td>\n",
       "      <td>0</td>\n",
       "      <td>0</td>\n",
       "      <td>0</td>\n",
       "      <td>0</td>\n",
       "      <td>0</td>\n",
       "    </tr>\n",
       "  </tbody>\n",
       "</table>\n",
       "<p>5 rows × 784 columns</p>\n",
       "</div>"
      ],
      "text/plain": [
       "   pixel0  pixel1  pixel2  pixel3  pixel4  pixel5  pixel6  pixel7  pixel8  \\\n",
       "0       0       0       0       0       0       0       0       0       0   \n",
       "1       0       0       0       0       0       0       0       0       0   \n",
       "2       0       0       0       0       0       0       0       0       0   \n",
       "3       0       0       0       0       0       0       0       0       0   \n",
       "4       0       0       0       0       0       0       0       0       0   \n",
       "\n",
       "   pixel9    ...     pixel774  pixel775  pixel776  pixel777  pixel778  \\\n",
       "0       0    ...            0         0         0         0         0   \n",
       "1       0    ...            0         0         0         0         0   \n",
       "2       0    ...            0         0         0         0         0   \n",
       "3       0    ...            0         0         0         0         0   \n",
       "4       0    ...            0         0         0         0         0   \n",
       "\n",
       "   pixel779  pixel780  pixel781  pixel782  pixel783  \n",
       "0         0         0         0         0         0  \n",
       "1         0         0         0         0         0  \n",
       "2         0         0         0         0         0  \n",
       "3         0         0         0         0         0  \n",
       "4         0         0         0         0         0  \n",
       "\n",
       "[5 rows x 784 columns]"
      ]
     },
     "execution_count": 4,
     "metadata": {},
     "output_type": "execute_result"
    }
   ],
   "source": [
    "test.head()"
   ]
  },
  {
   "cell_type": "code",
   "execution_count": 5,
   "metadata": {},
   "outputs": [
    {
     "name": "stdout",
     "output_type": "stream",
     "text": [
      "(42000, 785)\n",
      "(28000, 784)\n"
     ]
    }
   ],
   "source": [
    "print(train.shape)\n",
    "print(test.shape)"
   ]
  },
  {
   "cell_type": "markdown",
   "metadata": {},
   "source": [
    "Видим какую то дичь из колонок с лейблами вида pixelN(всего таких 784 колонки), а также целевую переменную label, которую нам надо предсказать для теста. Смотрим в data на странице соревнования на каггле и допетриваем, что колонки это значения яркости пикселей в градации черно-белого, просто они развернуты в единый плоский вектор, а не по человечески 28х28 матрицу. Ну ок структура данных чуть прояснилась. Самое время посмотреть, а действительно ли там циферки нарисованы(может дикпики??)."
   ]
  },
  {
   "cell_type": "code",
   "execution_count": 24,
   "metadata": {},
   "outputs": [
    {
     "name": "stdout",
     "output_type": "stream",
     "text": [
      "Это цифра 6\n"
     ]
    },
    {
     "data": {
      "image/png": "[encoded data removed]",
      "text/plain": [
       "<Figure size 432x288 with 1 Axes>"
      ]
     },
     "metadata": {
      "needs_background": "light"
     },
     "output_type": "display_data"
    },
    {
     "name": "stdout",
     "output_type": "stream",
     "text": [
      "Это хз че за цифра, потому что это тест\n"
     ]
    },
    {
     "data": {
      "image/png": "[encoded data removed]",
      "text/plain": [
       "<Figure size 432x288 with 1 Axes>"
      ]
     },
     "metadata": {
      "needs_background": "light"
     },
     "output_type": "display_data"
    }
   ],
   "source": [
    "labels = train['label'].values\n",
    "train_copy = train.drop(['label'], axis=1)\n",
    "train_images = np.array(train_copy).reshape(42000,28,28)\n",
    "test_images = np.array(test).reshape(28000,28,28)\n",
    "rand_idx = np.random.randint(0, 28000)\n",
    "digit = train_images[rand_idx]\n",
    "print(\"Это цифра {}\".format(labels[rand_idx]))\n",
    "plt.imshow(digit, cmap=plt.cm.binary)\n",
    "plt.show()\n",
    "\n",
    "digit = test_images[rand_idx]\n",
    "print(\"Это хз че за цифра, потому что это тест\")\n",
    "plt.imshow(digit, cmap=plt.cm.binary)\n",
    "plt.show()"
   ]
  },
  {
   "cell_type": "markdown",
   "metadata": {},
   "source": [
    "Сейчас расчехляем торч. Описываем модель Torch из 6 convolutional слоев, добавим нормализации по батчам(это нужно для нормализации весов внутри одного слоя, когда один нейрон вроде меняет веса, а другой умирает: с relu такое часто случается, это называется проблемой затухающего нейрона). Добавим дропаут(с вероятностью 0.3 и 0.5) после max_pooling, дропаут и пулинг нужны чтобы не оверфитнутся. Ну и в конце 2 fully connected слоя, с пипиркой в конце с 10 классами."
   ]
  },
  {
   "cell_type": "code",
   "execution_count": 241,
   "metadata": {},
   "outputs": [],
   "source": [
    "import torch\n",
    "import torch.nn as nn\n",
    "from torch.autograd import Variable\n",
    "import torch.optim as optim\n",
    "import torch.nn.functional as F\n",
    "\n",
    "class MnistModel(nn.Module):\n",
    "    def __init__(self):\n",
    "        super(MnistModel, self).__init__()\n",
    "        self.conv1 = nn.Conv2d(1, 32, kernel_size=(5,5))\n",
    "        self.bn1 = nn.BatchNorm2d(32)\n",
    "        self.conv2 = nn.Conv2d(32, 32, kernel_size=(5,5))\n",
    "        self.bn2 = nn.BatchNorm2d(32)\n",
    "        self.conv2_drop = nn.Dropout2d(p = 0.3)\n",
    "        self.conv3_drop = nn.Dropout2d(p = 0.5)\n",
    "        self.fc1 = nn.Linear(128, 100)\n",
    "        self.fc2 = nn.Linear(100, 10)\n",
    "        self.conv3 = nn.Conv2d(32, 64, kernel_size=(3,3))\n",
    "        self.bn3 = nn.BatchNorm2d(64)\n",
    "        self.conv4 = nn.Conv2d(64, 64, kernel_size=(3,3))\n",
    "        self.bn4 = nn.BatchNorm2d(64)\n",
    "        self.conv5 = nn.Conv2d(64, 128, kernel_size=(3,3))\n",
    "        self.bn5 = nn.BatchNorm2d(128)\n",
    "        self.conv6 = nn.Conv2d(128, 128, kernel_size=(1,1))\n",
    "        self.bn6 = nn.BatchNorm2d(128)\n",
    "        \n",
    "    def forward(self, x):\n",
    "        x = F.relu(self.conv1(x))\n",
    "        x = self.bn1(x)\n",
    "        x = F.relu(self.conv2(x))\n",
    "        x = self.conv2_drop(F.max_pool2d(self.bn2(x),2))\n",
    "        x = F.relu(self.conv3(x))\n",
    "        x = self.bn3(x)\n",
    "        x = F.relu(self.conv4(x))\n",
    "        x = self.bn4(x)\n",
    "        x = F.max_pool2d(x,2)\n",
    "        x = self.conv3_drop(x)\n",
    "        x = F.relu(self.conv5(x))\n",
    "        x = self.bn5(x)\n",
    "        x = F.relu(self.conv6(x))\n",
    "        x = self.bn6(x)\n",
    "        size =  x.size()[1]*x.size()[2]*x.size()[3]\n",
    "        x = x.view(-1, size)\n",
    "        x = F.relu(self.fc1(x))\n",
    "        x = self.fc2(x)\n",
    "        return x"
   ]
  },
  {
   "cell_type": "markdown",
   "metadata": {},
   "source": [
    "Теперь надо инициализировать саму модель, гиперпараметры, loss функцию, и опитимизатор."
   ]
  },
  {
   "cell_type": "code",
   "execution_count": 242,
   "metadata": {},
   "outputs": [],
   "source": [
    "model = MnistModel()\n",
    "\n",
    "use_gpu = torch.cuda.is_available()\n",
    "criterion = nn.CrossEntropyLoss()\n",
    "optimizer = optim.SGD(model.parameters(), lr = 0.3, momentum = 0.1)\n",
    "if use_gpu:\n",
    "    model = model.cuda()\n",
    "num_train = 42000\n",
    "num_epoch = 40000\n",
    "num_batch = 210"
   ]
  },
  {
   "cell_type": "markdown",
   "metadata": {},
   "source": [
    "Нам нужны функции для тренировки сети и предикта на тестовом датасете. Го писать"
   ]
  },
  {
   "cell_type": "code",
   "execution_count": 61,
   "metadata": {},
   "outputs": [],
   "source": [
    "def train_net(num_epoch, num_train, num_batch, X_data, X_label, criterion, optimizer, model):\n",
    "    idx = 0\n",
    "    for epoch in range(num_epoch):\n",
    "        if idx + num_batch >= num_train:\n",
    "            idx = 0\n",
    "        else:\n",
    "            idx = idx + num_batch\n",
    "        mini_batch  = Variable(X_data[idx:(idx+num_batch)].clone())\n",
    "        mini_batch_label = Variable(X_label[idx:(idx+num_batch)].clone(), requires_grad = False)\n",
    "        mini_batch = mini_batch.type(torch.FloatTensor)\n",
    "        mini_batch_label = mini_batch_label.type(torch.LongTensor)\n",
    "        if use_gpu:\n",
    "            mini_batch = mini_batch.cuda()\n",
    "            mini_batch_label = mini_batch_label.cuda()\n",
    "        optimizer.zero_grad()\n",
    "        out = model(mini_batch)\n",
    "        mini_batch_label = mini_batch_label.view(num_batch)\n",
    "        loss  = criterion(out, mini_batch_label)\n",
    "        loss.backward()\n",
    "        optimizer.step() \n",
    "\n",
    "        if (epoch + 1) % 4000 == 0:\n",
    "            print(\"Epoch = %d, Loss = %f\" %(epoch + 1, loss.data[0]))\n",
    "\n",
    "def predict(model, num_test, num_sub, Y_data):\n",
    "    model.eval()\n",
    "    final_prediction = np.ndarray(shape = (num_test, 2), dtype=int)\n",
    "    for sample in range(num_test):\n",
    "        sample_data = Variable(Y_data[sample:sample+1].clone())\n",
    "        sample_data = sample_data.type(torch.FloatTensor)\n",
    "        if use_gpu:\n",
    "            sample_data = sample_data.cuda()\n",
    "        sample_out = model(sample_data)\n",
    "        pred = torch.max(sample_out, 1)\n",
    "        final_prediction[sample][0] = 1 + sample\n",
    "        final_prediction[sample][1] = pred[1][0]\n",
    "        if (sample + 1) % 4000 == 0:\n",
    "            print(\"Total tested = %d\" %(sample + 1))\n",
    "    submission = pd.DataFrame(final_prediction, dtype=int, columns=['ImageId', 'Label'])\n",
    "    submission.to_csv('submission_{}.csv'.format(num_sub), index=False, header=True)"
   ]
  },
  {
   "cell_type": "markdown",
   "metadata": {},
   "source": [
    "Надо подготовить данные для того, чтобы скормить нашей сеточке (посолить, поперчить, нормализовать). Нормализуем, поделим все пиксели на 255, приведем их к интервалу [0, 1], это необходимо для быстрой сходимости градиентного спуска, так как в ненормализованных данных значения могут быть сильно разбросаны и коррекция весов нейронки будет идти дольше."
   ]
  },
  {
   "cell_type": "code",
   "execution_count": 63,
   "metadata": {},
   "outputs": [
    {
     "name": "stdout",
     "output_type": "stream",
     "text": [
      "torch.Size([42000, 1, 28, 28]) torch.Size([42000, 1])\n",
      "torch.Size([28000, 1, 28, 28])\n"
     ]
    }
   ],
   "source": [
    "X = train[:, 1:].reshape(train.shape[0], 1, 28, 28)\n",
    "Y = train[:,0]\n",
    "X = X.astype(float)\n",
    "X /= 255.0\n",
    "X  = torch.from_numpy(X)\n",
    "Y = Y.astype(int);\n",
    "Y = torch.from_numpy(Y)\n",
    "Y = Y.view(Y.shape[0],-1)\n",
    "print (X.size(), Y.size())\n",
    "X_test  = test.values.reshape(test.shape[0], 1, 28, 28)\n",
    "X_test  = X_test.astype(float)\n",
    "X_test /= 255.0\n",
    "X_test  = torch.from_numpy(X_test)\n",
    "print (X_test.size())"
   ]
  },
  {
   "cell_type": "code",
   "execution_count": 68,
   "metadata": {},
   "outputs": [
    {
     "name": "stderr",
     "output_type": "stream",
     "text": [
      "/home/d.milovanov/sentiment_prediction/torch_venv/lib/python3.5/site-packages/ipykernel_launcher.py:23: UserWarning: invalid index of a 0-dim tensor. This will be an error in PyTorch 0.5. Use tensor.item() to convert a 0-dim tensor to a Python number\n"
     ]
    },
    {
     "name": "stdout",
     "output_type": "stream",
     "text": [
      "Epoch = 4000, Loss = 0.002068\n",
      "Epoch = 8000, Loss = 0.001057\n",
      "Epoch = 12000, Loss = 0.000275\n",
      "Epoch = 16000, Loss = 0.000090\n",
      "Epoch = 20000, Loss = 0.000095\n",
      "Epoch = 24000, Loss = 0.000187\n",
      "Epoch = 28000, Loss = 0.000052\n",
      "Epoch = 32000, Loss = 0.000052\n",
      "Epoch = 36000, Loss = 0.000059\n",
      "Epoch = 40000, Loss = 0.000160\n"
     ]
    }
   ],
   "source": [
    "train_net(num_epoch, num_train, num_batch, X, Y, criterion, optimizer, model)"
   ]
  },
  {
   "cell_type": "markdown",
   "metadata": {},
   "source": [
    "Сделаем предикт и самбит нашей первой вариации сетки."
   ]
  },
  {
   "cell_type": "code",
   "execution_count": 70,
   "metadata": {},
   "outputs": [
    {
     "name": "stdout",
     "output_type": "stream",
     "text": [
      "Total tested = 4000\n",
      "Total tested = 8000\n",
      "Total tested = 12000\n",
      "Total tested = 16000\n",
      "Total tested = 20000\n",
      "Total tested = 24000\n",
      "Total tested = 28000\n"
     ]
    }
   ],
   "source": [
    "predict(model, test.shape[0], 1, X_test)"
   ]
  },
  {
   "cell_type": "markdown",
   "metadata": {},
   "source": [
    "Скор 0.99414 не радует, давайте попробуем агеменитруем наши данные. Ведь чем больше данных мы скормим нашей сеточке, тем она будет устойчивей при обучении, не будет оверфитится и будем надеется покажет лучший скор на LB. Сейчас мы децл агументируем наши циферки, добавим для каждого изображения поворот на 20 градусов, а также сдвиг по каждой из осей. Таким образом размер датасета увеличится в 3 раза. Посмотрим на размерность получившихся векторов. Такой же херней надо пострадать с метками для циферок."
   ]
  },
  {
   "cell_type": "code",
   "execution_count": 179,
   "metadata": {},
   "outputs": [
    {
     "name": "stdout",
     "output_type": "stream",
     "text": [
      "(42000, 28, 28) (42000, 28, 28)\n"
     ]
    }
   ],
   "source": [
    "from scipy.ndimage import rotate\n",
    "from scipy.ndimage import shift\n",
    "\n",
    "def img_shift(a):\n",
    "    return shift(a, .5)\n",
    "    \n",
    "def img_rotate(a):\n",
    "    return rotate(a, 20, reshape=False)\n",
    "\n",
    "X = train[:, 1:].reshape(train.shape[0], 28, 28)\n",
    "X_rotated = np.zeros((train.shape[0], 28, 28))\n",
    "X_shift = np.zeros((train.shape[0], 28, 28))\n",
    "for array in range(X.shape[0]):\n",
    "    X_shift[array] = img_shift(X[array])\n",
    "    X_rotated[array] = img_rotate(X[array])\n",
    "\n",
    "print(X_shift.shape, X_rotated.shape)"
   ]
  },
  {
   "cell_type": "code",
   "execution_count": 210,
   "metadata": {},
   "outputs": [
    {
     "name": "stdout",
     "output_type": "stream",
     "text": [
      "(126000, 28, 28) (126000, 1)\n"
     ]
    }
   ],
   "source": [
    "X_augmented = np.concatenate((X, X_shift, X_rotated))\n",
    "Y_augmented = np.concatenate((Y, Y, Y))\n",
    "print(X_augmented.shape, Y_augmented.shape)"
   ]
  },
  {
   "cell_type": "markdown",
   "metadata": {},
   "source": [
    "Подготавливаем данные для обучения"
   ]
  },
  {
   "cell_type": "code",
   "execution_count": 218,
   "metadata": {},
   "outputs": [
    {
     "name": "stdout",
     "output_type": "stream",
     "text": [
      "torch.Size([126000, 1, 28, 28]) torch.Size([126000, 1])\n"
     ]
    }
   ],
   "source": [
    "X_augmented = X_augmented.reshape(train.shape[0]*3, 1, 28, 28)\n",
    "X_augmented = X_augmented.astype(float)\n",
    "X_augmented /= 255.0\n",
    "X_augmented = torch.from_numpy(X_augmented)\n",
    "Y_augmented = Y_augmented.astype(int);\n",
    "Y_augmented = torch.from_numpy(Y_augmented);\n",
    "Y_augmented = Y_augmented.view(Y_augmented.shape[0],-1)\n",
    "print (X_augmented.size(), Y_augmented.size())"
   ]
  },
  {
   "cell_type": "code",
   "execution_count": 219,
   "metadata": {},
   "outputs": [
    {
     "name": "stderr",
     "output_type": "stream",
     "text": [
      "/home/d.milovanov/sentiment_prediction/torch_venv/lib/python3.5/site-packages/ipykernel_launcher.py:23: UserWarning: invalid index of a 0-dim tensor. This will be an error in PyTorch 0.5. Use tensor.item() to convert a 0-dim tensor to a Python number\n"
     ]
    },
    {
     "name": "stdout",
     "output_type": "stream",
     "text": [
      "Epoch = 4000, Loss = 0.027163\n",
      "Epoch = 8000, Loss = 0.004682\n",
      "Epoch = 12000, Loss = 0.000707\n",
      "Epoch = 16000, Loss = 0.000390\n",
      "Epoch = 20000, Loss = 0.000140\n",
      "Epoch = 24000, Loss = 0.000205\n",
      "Epoch = 28000, Loss = 0.000069\n",
      "Epoch = 32000, Loss = 0.000007\n",
      "Epoch = 36000, Loss = 0.000144\n",
      "Epoch = 40000, Loss = 0.000217\n"
     ]
    }
   ],
   "source": [
    "num_train=126000\n",
    "train_net(num_epoch, num_train, num_batch, X_augmented, Y_augmented, criterion, optimizer, model)"
   ]
  },
  {
   "cell_type": "markdown",
   "metadata": {},
   "source": [
    "Сделаем предикт и самбит нашей сетки c аугментацией. И посмотрим увеличился ли скор"
   ]
  },
  {
   "cell_type": "code",
   "execution_count": 221,
   "metadata": {},
   "outputs": [
    {
     "name": "stdout",
     "output_type": "stream",
     "text": [
      "Total tested = 4000\n",
      "Total tested = 8000\n",
      "Total tested = 12000\n",
      "Total tested = 16000\n",
      "Total tested = 20000\n",
      "Total tested = 24000\n",
      "Total tested = 28000\n"
     ]
    }
   ],
   "source": [
    "predict(model, test.shape[0], 2, X_test)"
   ]
  },
  {
   "cell_type": "markdown",
   "metadata": {},
   "source": [
    "Скор на LB 0.99271, получается наша аугментация внесла какой то мусор на вход. ОК, мы не будем сдаваться."
   ]
  },
  {
   "cell_type": "markdown",
   "metadata": {},
   "source": [
    "А теперь сделаем финт ушами и добавим в наши данные исходный датасет MNIST и будем обучаться на аггрегированном датасете с 70К + наши 42К трейна"
   ]
  },
  {
   "cell_type": "code",
   "execution_count": null,
   "metadata": {},
   "outputs": [],
   "source": [
    "!wget https://s3.amazonaws.com/img-datasets/mnist.npz"
   ]
  },
  {
   "cell_type": "code",
   "execution_count": 231,
   "metadata": {},
   "outputs": [
    {
     "name": "stdout",
     "output_type": "stream",
     "text": [
      "(70000, 1, 28, 28) (70000,)\n",
      "torch.Size([112000, 1, 28, 28]) torch.Size([112000, 1])\n"
     ]
    }
   ],
   "source": [
    "train_out = np.load('/home/../../mnist.npz')\n",
    "d = dict(zip((\"data1{}\".format(k) for k in train_out), (train_out[k] for k in train_out)))\n",
    "x_train = np.concatenate((d['data1x_train'], d['data1x_test']))\n",
    "y_train = np.concatenate((d['data1y_train'], d['data1y_test']))\n",
    "x_train = x_train.reshape(x_train.shape[0], 1, 28, 28)\n",
    "print(x_train.shape, y_train.shape)\n",
    "X = train[:, 1:].reshape(train.shape[0], 1, 28, 28)\n",
    "Y = train[:,0]\n",
    "X = np.concatenate((x_train, X))\n",
    "X = X.astype(float)\n",
    "X /= 255.0\n",
    "X  = torch.from_numpy(X)\n",
    "Y = np.concatenate((y_train, Y))\n",
    "Y = Y.astype(int)\n",
    "Y = torch.from_numpy(Y)\n",
    "Y = Y.view(Y.shape[0],-1)\n",
    "print (X.size(), Y.size())"
   ]
  },
  {
   "cell_type": "code",
   "execution_count": 244,
   "metadata": {},
   "outputs": [
    {
     "name": "stderr",
     "output_type": "stream",
     "text": [
      "/home/d.milovanov/sentiment_prediction/torch_venv/lib/python3.5/site-packages/ipykernel_launcher.py:23: UserWarning: invalid index of a 0-dim tensor. This will be an error in PyTorch 0.5. Use tensor.item() to convert a 0-dim tensor to a Python number\n"
     ]
    },
    {
     "name": "stdout",
     "output_type": "stream",
     "text": [
      "Epoch = 4000, Loss = 0.000306\n",
      "Epoch = 8000, Loss = 0.000061\n",
      "Epoch = 12000, Loss = 0.001545\n",
      "Epoch = 16000, Loss = 0.000213\n",
      "Epoch = 20000, Loss = 0.000111\n",
      "Epoch = 24000, Loss = 0.000050\n",
      "Epoch = 28000, Loss = 0.000133\n",
      "Epoch = 32000, Loss = 0.000205\n",
      "Epoch = 36000, Loss = 0.000049\n",
      "Epoch = 40000, Loss = 0.000023\n"
     ]
    }
   ],
   "source": [
    "num_train=112000\n",
    "num_batch = 1120\n",
    "train_net(num_epoch, num_train, num_batch, X, Y, criterion, optimizer, model)"
   ]
  },
  {
   "cell_type": "code",
   "execution_count": 240,
   "metadata": {},
   "outputs": [
    {
     "name": "stdout",
     "output_type": "stream",
     "text": [
      "Total tested = 4000\n",
      "Total tested = 8000\n",
      "Total tested = 12000\n",
      "Total tested = 16000\n",
      "Total tested = 20000\n",
      "Total tested = 24000\n",
      "Total tested = 28000\n"
     ]
    }
   ],
   "source": [
    "predict(model, test.shape[0], 3, X_test)"
   ]
  },
  {
   "cell_type": "markdown",
   "metadata": {},
   "source": [
    "Оп и мы получили 28 место на LB со скором 1.0, понятно что это нечестно, ведь мы по сути в обучающую выборку запихнули данные из теста, но зато получили общее представление о слоях convolutional neural network, немного поигрались с данными, для hello world знаний достаточно."
   ]
  },
  {
   "cell_type": "code",
   "execution_count": null,
   "metadata": {},
   "outputs": [],
   "source": []
  }
 ],
 "metadata": {
  "kernelspec": {
   "display_name": "Python 3",
   "language": "python",
   "name": "python3"
  },
  "language_info": {
   "codemirror_mode": {
    "name": "ipython",
    "version": 3
   },
   "file_extension": ".py",
   "mimetype": "text/x-python",
   "name": "python",
   "nbconvert_exporter": "python",
   "pygments_lexer": "ipython3",
   "version": "3.5.2"
  }
 },
 "nbformat": 4,
 "nbformat_minor": 2
}
